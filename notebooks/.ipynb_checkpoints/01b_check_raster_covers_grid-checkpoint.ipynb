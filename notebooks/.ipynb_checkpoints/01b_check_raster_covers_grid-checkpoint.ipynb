{
 "cells": [
  {
   "cell_type": "markdown",
   "id": "6da8a02d-0890-4ac5-af04-d1e67f404b60",
   "metadata": {},
   "source": [
    "---\n",
    "**Project**: Submarine Cable Route Risk Assessment  \n",
    "**Author**: Alejandra L. Cameselle  \n",
    "**Date**: June 2025  \n",
    "**Script**: check_raster_covers_grid.py  \n",
    "---\n",
    "\n",
    "### Description  \n",
    "This script verifies whether a raster (e.g., bathymetry or slope) fully covers the target analysis grid within the Area of Interest (AOI).  \n",
    "It checks whether the centroid of each grid cell lies within the raster bounds and flags any cells that fall outside.\n",
    "\n",
    "### Inputs  \n",
    "- `bathymetry_clipped.tif`: Raster to be verified (EPSG:25829)  \n",
    "- `01_grid_100m_full.gpkg`: Full 100m grid including `inside_aoi` flag  \n",
    "- Grid layer must be projected in EPSG:25829 or reprojected automatically  \n",
    "\n",
    "### Processing  \n",
    "- Load grid and filter to cells inside AOI  \n",
    "- Compute centroids of each cell  \n",
    "- Compare each centroid with raster bounding box  \n",
    "- List and export any grid cells that fall outside raster coverage\n",
    "\n",
    "### Outputs  \n",
    "- Console report indicating full or partial coverage  \n",
    "- Optional GeoPackage: `_debug_missing_cells.gpkg` (cells not covered by the raster)\n",
    "\n",
    "### Dependencies  \n",
    "- `geopandas`, `rasterio`, `shapely`, `tqdm`\n",
    "\n",
    "### Notes  \n",
    "- This script does not inspect pixel-level NoData masks. It only verifies geometric coverage based on raster extent.  \n",
    "- For pixel-by-pixel coverage validation, zonal analysis should be performed directly."
   ]
  },
  {
   "cell_type": "code",
   "execution_count": 2,
   "id": "4c98c231-60c6-45b9-a92c-4979840b8583",
   "metadata": {},
   "outputs": [],
   "source": [
    "# Import libraries\n",
    "import geopandas as gpd\n",
    "import rasterio\n",
    "from shapely.geometry import box\n",
    "from tqdm import tqdm"
   ]
  },
  {
   "cell_type": "code",
   "execution_count": 3,
   "id": "71fbc8df-9889-492b-9d44-cbf1fdb40b93",
   "metadata": {},
   "outputs": [],
   "source": [
    "# Inputs\n",
    "raster_path = \"../processed_data/bathymetry_clipped.tif\"\n",
    "grid_path = \"../processed_data/01_grid_100m_full.gpkg\"\n",
    "grid_layer = \"grid_100m_full\""
   ]
  },
  {
   "cell_type": "code",
   "execution_count": 4,
   "id": "5774bd63-817d-4036-93ab-c944cb1b2814",
   "metadata": {},
   "outputs": [],
   "source": [
    "# Load grid and filter to AOI\n",
    "grid = gpd.read_file(grid_path, layer=grid_layer)\n",
    "grid = grid[grid[\"inside_aoi\"]].copy()"
   ]
  },
  {
   "cell_type": "code",
   "execution_count": 5,
   "id": "33b7759b-6ca1-443e-8667-96353ce8a057",
   "metadata": {},
   "outputs": [],
   "source": [
    "# Load raster and extract its bounding box and valid data mask\n",
    "with rasterio.open(raster_path) as src:\n",
    "    raster_bounds = box(*src.bounds)\n",
    "    raster_crs = src.crs\n",
    "    raster_transform = src.transform\n",
    "    raster_data = src.read(1)\n",
    "    raster_mask = src.read_masks(1) > 0  # valid pixels"
   ]
  },
  {
   "cell_type": "code",
   "execution_count": 6,
   "id": "d7d07ed2-e900-4370-a221-823cdd6a5c89",
   "metadata": {},
   "outputs": [],
   "source": [
    "# Ensure same CRS \n",
    "if grid.crs != raster_crs:\n",
    "    grid = grid.to_crs(raster_crs)"
   ]
  },
  {
   "cell_type": "code",
   "execution_count": 7,
   "id": "3b2b5082-f188-4153-826c-9a8f7bbec6e7",
   "metadata": {},
   "outputs": [
    {
     "name": "stderr",
     "output_type": "stream",
     "text": [
      "100%|██████████| 540242/540242 [00:11<00:00, 48111.32it/s]\n"
     ]
    }
   ],
   "source": [
    "# Check if all centroids fall within raster bounds \n",
    "missing = []\n",
    "for idx, row in tqdm(grid.iterrows(), total=len(grid)):\n",
    "    centroid = row.geometry.centroid\n",
    "    if not raster_bounds.contains(centroid):\n",
    "        missing.append(idx)"
   ]
  },
  {
   "cell_type": "code",
   "execution_count": 8,
   "id": "711cccaf-1bbb-4a31-98ad-6ed229870387",
   "metadata": {},
   "outputs": [
    {
     "name": "stdout",
     "output_type": "stream",
     "text": [
      "All grid cells are within the raster bounds.\n"
     ]
    }
   ],
   "source": [
    "# Output results \n",
    "if missing:\n",
    "    print(f\"CAUTION!!! {len(missing)} grid cells are outside raster bounds.\")\n",
    "    print(\"Example missing cell indices:\", missing[:5])\n",
    "else:\n",
    "    print(\"All grid cells are within the raster bounds.\")"
   ]
  },
  {
   "cell_type": "code",
   "execution_count": 9,
   "id": "8b2931be-923e-40ad-bc6b-df36d8598fa7",
   "metadata": {},
   "outputs": [],
   "source": [
    "# Save missing cells as shapefile or GeoPackage for inspection\n",
    "if missing:\n",
    "    missing_gdf = grid.loc[missing]\n",
    "    missing_gdf.to_file(\"../processed_data/_debug_missing_cells.gpkg\", driver=\"GPKG\")\n",
    "    print(\"Saved missing cells to: _debug_missing_cells.gpkg\")"
   ]
  }
 ],
 "metadata": {
  "kernelspec": {
   "display_name": "Python 3 (ipykernel)",
   "language": "python",
   "name": "python3"
  },
  "language_info": {
   "codemirror_mode": {
    "name": "ipython",
    "version": 3
   },
   "file_extension": ".py",
   "mimetype": "text/x-python",
   "name": "python",
   "nbconvert_exporter": "python",
   "pygments_lexer": "ipython3",
   "version": "3.13.5"
  }
 },
 "nbformat": 4,
 "nbformat_minor": 5
}
