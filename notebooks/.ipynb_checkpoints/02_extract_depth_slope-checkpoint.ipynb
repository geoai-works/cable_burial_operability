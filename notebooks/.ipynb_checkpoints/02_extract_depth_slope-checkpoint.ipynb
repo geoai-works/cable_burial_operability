{
 "cells": [
  {
   "cell_type": "markdown",
   "id": "bbbc25ec-d131-4c88-912b-32315123fc02",
   "metadata": {},
   "source": [
    "---\n",
    "**Project**: Submarine Cable Route Risk Assessment  \n",
    "**Author**: Alejandra L. Cameselle  \n",
    "**Date**: June 2025  \n",
    "**Notebook**: 02 – Extract Depth and Slope Statistics  \n",
    "---\n",
    "\n",
    "### Description  \n",
    "This notebook extracts depth and slope statistics for each 100m grid cell whose centroid falls within the AOI.  \n",
    "Slope is computed from bathymetry using NumPy gradient analysis and saved as a GeoTIFF raster for inspection.\n",
    "\n",
    "### Inputs  \n",
    "- `01_grid_100m_full.gpkg`: Full grid with `inside_aoi` flag  \n",
    "- `bathymetry_clipped.tif`: Bathymetric raster (32-bit float, EPSG:25829)\n",
    "\n",
    "### Processing  \n",
    "- Filter cells using `inside_aoi == True`  \n",
    "- Compute slope raster from bathymetry using NumPy  \n",
    "- Calculate zonal mean values of depth and slope per cell  \n",
    "- Export updated grid and slope raster\n",
    "\n",
    "### Outputs  \n",
    "- `02_slope.tif`: Slope raster in degrees  \n",
    "- `02_grid_depth_slope.gpkg`: Grid with `depth_mean`, `slope_mean_deg`\n",
    "\n",
    "### Assumptions  \n",
    "- Raster and vector data are aligned (EPSG:25829)  \n",
    "- Depth is negative below sea level  \n",
    "- Slope is derived via gradient magnitude in degrees\n",
    "\n",
    "### Dependencies  \n",
    "- geopandas, rasterstats, rasterio, numpy"
   ]
  },
  {
   "cell_type": "code",
   "execution_count": 1,
   "id": "8817b33e-46f4-45e3-8359-415a30990978",
   "metadata": {},
   "outputs": [],
   "source": [
    "# Import libraries\n",
    "import geopandas as gpd\n",
    "import numpy as np\n",
    "import rasterio\n",
    "from rasterstats import zonal_stats\n",
    "import os"
   ]
  },
  {
   "cell_type": "code",
   "execution_count": 2,
   "id": "a41393bc-0d71-4594-a30e-801df22ba888",
   "metadata": {},
   "outputs": [],
   "source": [
    "# Load grid\n",
    "grid_path = \"../processed_data/01_grid_100m_full.gpkg\"\n",
    "grid = gpd.read_file(grid_path, layer=\"grid_100m_full\")"
   ]
  },
  {
   "cell_type": "code",
   "execution_count": 3,
   "id": "354c0dfb-5598-4f72-81ae-43646a5224b0",
   "metadata": {},
   "outputs": [],
   "source": [
    "# Filter grid to inside AOI only\n",
    "grid = grid[grid[\"inside_aoi\"]].copy()\n",
    "grid.reset_index(drop=True, inplace=True)"
   ]
  },
  {
   "cell_type": "code",
   "execution_count": 4,
   "id": "c93ad6ed-b686-4a24-b57c-a99ef7ee846e",
   "metadata": {},
   "outputs": [],
   "source": [
    "# Define input raster\n",
    "bathy_path = \"../processed_data/bathymetry_clipped.tif\""
   ]
  },
  {
   "cell_type": "code",
   "execution_count": 5,
   "id": "5364c412-0320-4ce4-9615-27d46156a1c5",
   "metadata": {},
   "outputs": [],
   "source": [
    "# Compute slope raster from bathymetry\n",
    "with rasterio.open(bathy_path) as src:\n",
    "    bathy_array = src.read(1)\n",
    "    transform = src.transform\n",
    "    pixel_size = transform[0]\n",
    "    bathy_crs = src.crs\n",
    "    bathy_profile = src.profile\n",
    "\n",
    "    # Compute slope in degrees\n",
    "    dy, dx = np.gradient(bathy_array, pixel_size)\n",
    "    slope = np.sqrt(dx**2 + dy**2)\n",
    "    slope_deg = np.degrees(np.arctan(slope))"
   ]
  },
  {
   "cell_type": "code",
   "execution_count": 6,
   "id": "2c933f5c-c130-4d9d-8fe0-5670d41f2776",
   "metadata": {},
   "outputs": [
    {
     "name": "stdout",
     "output_type": "stream",
     "text": [
      "Slope raster saved: ../processed_data/02_slope.tif\n"
     ]
    }
   ],
   "source": [
    "# Save slope raster\n",
    "slope_raster_path = \"../processed_data/02_slope.tif\"\n",
    "with rasterio.open(\n",
    "    slope_raster_path,\n",
    "    \"w\",\n",
    "    driver=\"GTiff\",\n",
    "    height=slope_deg.shape[0],\n",
    "    width=slope_deg.shape[1],\n",
    "    count=1,\n",
    "    dtype=\"float32\",\n",
    "    crs=bathy_crs,\n",
    "    transform=transform,\n",
    ") as dst:\n",
    "    dst.write(slope_deg.astype(\"float32\"), 1)\n",
    "\n",
    "print(\"Slope raster saved:\", slope_raster_path)"
   ]
  },
  {
   "cell_type": "code",
   "execution_count": 7,
   "id": "0722554d-30d9-4462-9209-e1e683e5f5e8",
   "metadata": {},
   "outputs": [
    {
     "name": "stdout",
     "output_type": "stream",
     "text": [
      "Calculating mean depth...\n"
     ]
    }
   ],
   "source": [
    "# Compute mean depth per grid cell\n",
    "print(\"Calculating mean depth...\")\n",
    "depth_stats = zonal_stats(\n",
    "    vectors=grid[\"geometry\"],\n",
    "    raster=bathy_path,\n",
    "    stats=[\"mean\"],\n",
    "    nodata=-9999\n",
    ")\n",
    "grid[\"depth_mean\"] = [s[\"mean\"] if s[\"mean\"] is not None else np.nan for s in depth_stats]"
   ]
  },
  {
   "cell_type": "code",
   "execution_count": 8,
   "id": "9899fca6-f2f2-4d54-aa1d-4c5b52bf2a3b",
   "metadata": {},
   "outputs": [
    {
     "name": "stdout",
     "output_type": "stream",
     "text": [
      "Calculating mean slope...\n"
     ]
    }
   ],
   "source": [
    "# Compute mean slope per grid cell\n",
    "print(\"Calculating mean slope...\")\n",
    "slope_stats = zonal_stats(\n",
    "    vectors=grid[\"geometry\"],\n",
    "    raster=slope_raster_path,\n",
    "    stats=[\"mean\"],\n",
    "    nodata=-9999\n",
    ")\n",
    "grid[\"slope_mean_deg\"] = [s[\"mean\"] if s[\"mean\"] is not None else np.nan for s in slope_stats]"
   ]
  },
  {
   "cell_type": "code",
   "execution_count": 9,
   "id": "db3e0411-bc08-4f48-9f5b-1d7eda5c76e5",
   "metadata": {},
   "outputs": [
    {
     "name": "stdout",
     "output_type": "stream",
     "text": [
      "Missing depth values: 180, Missing slope values: 0\n"
     ]
    }
   ],
   "source": [
    "# Check for missing values\n",
    "missing_depth = grid[\"depth_mean\"].isna().sum()\n",
    "missing_slope = grid[\"slope_mean_deg\"].isna().sum()\n",
    "print(f\"Missing depth values: {missing_depth}, Missing slope values: {missing_slope}\")"
   ]
  },
  {
   "cell_type": "code",
   "execution_count": 10,
   "id": "c0503ef7-ebf6-4443-b6be-ee13356d13aa",
   "metadata": {},
   "outputs": [
    {
     "name": "stdout",
     "output_type": "stream",
     "text": [
      "Grid exported: ../processed_data/02_grid_depth_slope.gpkg\n",
      "Total AOI cells processed: 540242\n"
     ]
    }
   ],
   "source": [
    "# Export final grid with depth and slope\n",
    "output_path = \"../processed_data/02_grid_depth_slope.gpkg\"\n",
    "grid.to_file(output_path, layer=\"grid_depth_slope\", driver=\"GPKG\")\n",
    "\n",
    "print(f\"Grid exported: {output_path}\")\n",
    "print(f\"Total AOI cells processed: {len(grid)}\")"
   ]
  },
  {
   "cell_type": "code",
   "execution_count": null,
   "id": "844c7ebc-837e-4e11-8de0-0998f347baaf",
   "metadata": {},
   "outputs": [],
   "source": []
  }
 ],
 "metadata": {
  "kernelspec": {
   "display_name": "Python 3 (ipykernel)",
   "language": "python",
   "name": "python3"
  },
  "language_info": {
   "codemirror_mode": {
    "name": "ipython",
    "version": 3
   },
   "file_extension": ".py",
   "mimetype": "text/x-python",
   "name": "python",
   "nbconvert_exporter": "python",
   "pygments_lexer": "ipython3",
   "version": "3.13.5"
  }
 },
 "nbformat": 4,
 "nbformat_minor": 5
}
