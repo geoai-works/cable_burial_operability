{
 "cells": [
  {
   "cell_type": "markdown",
   "id": "5c6f8686",
   "metadata": {},
   "source": [
    "## Project: Cable Burial Operability  \n",
    "**Author**: Alejandra Cameselle  \n",
    "**Date**: 2025-06-27  \n",
    "**Notebook**: 01_generate_grid  \n",
    "**Description**:  \n",
    "This notebook generates a 100 m resolution grid covering the area of interest for cable routing analysis.  \n",
    "\n",
    "**Inputs**: Area of Interest shapefile (AOI)  \n",
    "**Processing**: Create a regular grid in projected coordinates (EPSG:25829)  \n",
    "**Outputs**: 100 m resolution grid (GeoPackage format)"
   ]
  },
  {
   "cell_type": "markdown",
   "id": "9ebbd3f7",
   "metadata": {},
   "source": [
    "### Load area of interest"
   ]
  },
  {
   "cell_type": "code",
   "execution_count": null,
   "id": "332b628d",
   "metadata": {},
   "outputs": [],
   "source": [
    "import geopandas as gpd\n",
    "import matplotlib.pyplot as plt\n",
    "\n",
    "# Load Area of Interest\n",
    "aoi = gpd.read_file(\"../inputs/aoi.gpkg\")\n",
    "aoi = aoi.to_crs(epsg=25829)  # Ensure projected CRS\n",
    "aoi.plot(edgecolor=\"black\", facecolor=\"none\")\n",
    "plt.title(\"Area of Interest\")\n",
    "plt.show()"
   ]
  },
  {
   "cell_type": "markdown",
   "id": "70b4814c",
   "metadata": {},
   "source": [
    "### Generate 100m grid"
   ]
  },
  {
   "cell_type": "code",
   "execution_count": null,
   "id": "f7edc70b",
   "metadata": {},
   "outputs": [],
   "source": [
    "from shapely.geometry import box\n",
    "import numpy as np\n",
    "\n",
    "# Get bounds of AOI\n",
    "minx, miny, maxx, maxy = aoi.total_bounds\n",
    "cell_size = 100  # meters\n",
    "\n",
    "# Generate grid cells\n",
    "cols = np.arange(minx, maxx, cell_size)\n",
    "rows = np.arange(miny, maxy, cell_size)\n",
    "grid_cells = []\n",
    "\n",
    "for x in cols:\n",
    "    for y in rows:\n",
    "        cell = box(x, y, x + cell_size, y + cell_size)\n",
    "        grid_cells.append(cell)\n",
    "\n",
    "# Convert to GeoDataFrame\n",
    "grid = gpd.GeoDataFrame(geometry=grid_cells, crs=aoi.crs)\n",
    "\n",
    "# Clip to AOI\n",
    "grid[\"inside_aoi\"] = grid.intersects(aoi.unary_union)\n",
    "grid = grid[grid[\"inside_aoi\"]].copy()\n",
    "grid = grid.reset_index(drop=True)"
   ]
  },
  {
   "cell_type": "markdown",
   "id": "1188f1e3",
   "metadata": {},
   "source": [
    "### Export grid"
   ]
  },
  {
   "cell_type": "code",
   "execution_count": null,
   "id": "ef708868",
   "metadata": {},
   "outputs": [],
   "source": [
    "# Export as GeoPackage\n",
    "grid.to_file(\"../processed_data/01_grid_100m.gpkg\", driver=\"GPKG\")\n",
    "print(\"✅ Grid exported successfully.\")"
   ]
  },
  {
   "cell_type": "markdown",
   "id": "402716b6",
   "metadata": {},
   "source": [
    "### Plot preview (optional)"
   ]
  },
  {
   "cell_type": "code",
   "execution_count": null,
   "id": "e37afb65",
   "metadata": {},
   "outputs": [],
   "source": [
    "fig, ax = plt.subplots(figsize=(8, 8))\n",
    "aoi.boundary.plot(ax=ax, color=\"black\", linewidth=1)\n",
    "grid.plot(ax=ax, facecolor=\"none\", edgecolor=\"grey\", linewidth=0.3)\n",
    "plt.title(\"Generated 100m Grid within AOI\")\n",
    "plt.tight_layout()\n",
    "plt.show()"
   ]
  },
  {
   "cell_type": "markdown",
   "id": "6c655414",
   "metadata": {},
   "source": [
    "**Notes**:  \n",
    "- This grid will serve as the spatial basis for raster sampling (depth, slope) and spatial overlay operations.  \n",
    "- The resolution can be modified by changing the `cell_size` parameter."
   ]
  }
 ],
 "metadata": {},
 "nbformat": 4,
 "nbformat_minor": 5
}
