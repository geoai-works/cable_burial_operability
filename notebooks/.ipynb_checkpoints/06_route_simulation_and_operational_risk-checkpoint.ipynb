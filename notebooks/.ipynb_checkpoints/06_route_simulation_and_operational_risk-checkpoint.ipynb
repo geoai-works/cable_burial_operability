{
 "cells": [
  {
   "cell_type": "markdown",
   "id": "35b362df-529e-496c-b016-225b8f9ef5f5",
   "metadata": {},
   "source": [
    "---\n",
    "**Project**: Submarine Cable Route Risk Assessment  \n",
    "**Author**: Alejandra L. Cameselle  \n",
    "**Date**: June 2025  \n",
    "**Notebook**: 06 – Route Simulation and Operational Risk   \n",
    "---\n",
    "\n",
    "### Description  \n",
    "This notebook evaluates simulated cable routes against the previously defined operational complexity grid. It calculates a cumulative and average operational risk score for each route based on the complexity classes the routes traverse.\n",
    "\n",
    "### Inputs  \n",
    "- `05_grid_operational_complexity.gpkg`: Grid with classified operational complexity  \n",
    "- `simulated_routes.gpkg`: Manually defined cable routes (LineStrings)  \n",
    "\n",
    "### Processing  \n",
    "- Load and validate geometries  \n",
    "- Intersect routes with grid cells  \n",
    "- Assign complexity score to each intersected segment  \n",
    "- Summarize total and average risk per route  \n",
    "\n",
    "### Outputs  \n",
    "- `06_routes_with_risk.gpkg`: Routes with operational risk scores  \n",
    "- `06_routes_risk_summary.csv`: Summary table with route scores  \n",
    "\n",
    "### Assumptions  \n",
    "- `fid` field is used to uniquely identify routes  \n",
    "- Operational complexity is categorical and ordered  \n",
    "\n",
    "### Dependencies  \n",
    "- geopandas, pandas, matplotlib, shapely"
   ]
  },
  {
   "cell_type": "code",
   "execution_count": 25,
   "id": "6e31a1c1-9fc2-4d55-9b84-8f3103ab5a13",
   "metadata": {},
   "outputs": [],
   "source": [
    "# Import libraries\n",
    "import geopandas as gpd\n",
    "import pandas as pd\n",
    "import matplotlib.pyplot as plt"
   ]
  },
  {
   "cell_type": "code",
   "execution_count": 31,
   "id": "52185698-cc61-4b4c-ba81-f4a5f8eede34",
   "metadata": {},
   "outputs": [],
   "source": [
    "# Load data\n",
    "grid = gpd.read_file(\"../processed_data/05_grid_operational_complexity.gpkg\", layer=\"05_grid_operational_complexity\")\n",
    "routes = gpd.read_file(\"../qgis_project/simulated_routes.gpkg\")"
   ]
  },
  {
   "cell_type": "code",
   "execution_count": 32,
   "id": "a4a6ee80-bf4c-42c8-b5e5-60b37e50cb0c",
   "metadata": {},
   "outputs": [
    {
     "name": "stdout",
     "output_type": "stream",
     "text": [
      "Intersections computed: 0 segments\n"
     ]
    }
   ],
   "source": [
    "# Intersect routes with operational complexity grid\n",
    "intersections = gpd.overlay(grid, routes, how=\"intersection\", keep_geom_type=True)\n",
    "print(f\"Intersections computed: {len(intersections)} segments\")"
   ]
  },
  {
   "cell_type": "code",
   "execution_count": 33,
   "id": "b4bf2def-7e3d-4313-971e-d3dc97061977",
   "metadata": {},
   "outputs": [],
   "source": [
    "# Assign risk score to each intersected segment\n",
    "risk_points = {\"Low\": 0, \"Moderate\": 1, \"High\": 2, \"Critical\": 3}\n",
    "intersections[\"risk_score\"] = intersections[\"cell_complexity\"].map(risk_points)"
   ]
  },
  {
   "cell_type": "code",
   "execution_count": 35,
   "id": "b853fdb5-0d07-4dad-9409-2d4f4793de3e",
   "metadata": {},
   "outputs": [
    {
     "name": "stdout",
     "output_type": "stream",
     "text": [
      "Operational risk summary for all routes:\n"
     ]
    },
    {
     "data": {
      "text/html": [
       "<style type=\"text/css\">\n",
       "</style>\n",
       "<table id=\"T_46c9b\">\n",
       "  <thead>\n",
       "    <tr>\n",
       "      <th class=\"blank level0\" >&nbsp;</th>\n",
       "      <th id=\"T_46c9b_level0_col0\" class=\"col_heading level0 col0\" >id</th>\n",
       "      <th id=\"T_46c9b_level0_col1\" class=\"col_heading level0 col1\" >total_score</th>\n",
       "      <th id=\"T_46c9b_level0_col2\" class=\"col_heading level0 col2\" >mean_score</th>\n",
       "      <th id=\"T_46c9b_level0_col3\" class=\"col_heading level0 col3\" >segment_count</th>\n",
       "    </tr>\n",
       "  </thead>\n",
       "  <tbody>\n",
       "  </tbody>\n",
       "</table>\n"
      ],
      "text/plain": [
       "<pandas.io.formats.style.Styler at 0x16d6d67b0>"
      ]
     },
     "metadata": {},
     "output_type": "display_data"
    }
   ],
   "source": [
    "# Summarize total and mean score per route\n",
    "summary = (\n",
    "    intersections.groupby(\"id\")\n",
    "    .agg(\n",
    "        total_score=(\"risk_score\", \"sum\"),\n",
    "        mean_score=(\"risk_score\", \"mean\"),\n",
    "        segment_count=(\"risk_score\", \"count\")\n",
    "    )\n",
    "    .reset_index()\n",
    "    .sort_values(\"total_score\", ascending=False)\n",
    ")\n",
    "\n",
    "# Operational risk summary\n",
    "print(\"Operational risk summary for all routes:\")\n",
    "display(summary.style.background_gradient(cmap=\"OrRd\", subset=[\"total_score\", \"mean_score\"]))"
   ]
  },
  {
   "cell_type": "code",
   "execution_count": 36,
   "id": "bf0b1e6a-0455-43ce-9eec-935f7ad14031",
   "metadata": {},
   "outputs": [
    {
     "name": "stdout",
     "output_type": "stream",
     "text": [
      "Outputs saved.\n"
     ]
    }
   ],
   "source": [
    "# Save outputs\n",
    "summary.to_csv(\"../outputs/06_routes_risk_summary.csv\", index=False)\n",
    "intersections.to_file(\"../outputs/06_routes_with_risk.gpkg\", driver=\"GPKG\")\n",
    "print(\"Outputs saved.\")"
   ]
  },
  {
   "cell_type": "code",
   "execution_count": 38,
   "id": "d624a6df-2c49-40fa-9eda-73ea26bea6a4",
   "metadata": {},
   "outputs": [
    {
     "name": "stdout",
     "output_type": "stream",
     "text": [
      "Route segments by complexity exported to:\n",
      "../outputs/06_route_segments_by_complexity.gpkg\n"
     ]
    }
   ],
   "source": [
    "# Export route segments by complexity for QGIS visualization\n",
    "export_path = \"../outputs/06_route_segments_by_complexity.gpkg\"\n",
    "\n",
    "# Reorganize columns for clarity\n",
    "export_cols = [\"id\", \"cell_complexity\", \"risk_score\", \"geometry\"]\n",
    "intersections[export_cols].to_file(export_path, driver=\"GPKG\")\n",
    "\n",
    "print(f\"Route segments by complexity exported to:\\n{export_path}\")"
   ]
  },
  {
   "cell_type": "code",
   "execution_count": null,
   "id": "fb14fcc8-2743-4e76-bfcf-2b6f83872de8",
   "metadata": {},
   "outputs": [],
   "source": []
  }
 ],
 "metadata": {
  "kernelspec": {
   "display_name": "Python 3 (ipykernel)",
   "language": "python",
   "name": "python3"
  },
  "language_info": {
   "codemirror_mode": {
    "name": "ipython",
    "version": 3
   },
   "file_extension": ".py",
   "mimetype": "text/x-python",
   "name": "python",
   "nbconvert_exporter": "python",
   "pygments_lexer": "ipython3",
   "version": "3.13.5"
  }
 },
 "nbformat": 4,
 "nbformat_minor": 5
}
