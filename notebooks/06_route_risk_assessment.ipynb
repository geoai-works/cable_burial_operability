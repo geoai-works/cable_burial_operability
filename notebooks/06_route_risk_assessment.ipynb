{
 "cells": [
  {
   "cell_type": "markdown",
   "id": "05fa2d67",
   "metadata": {},
   "source": [
    "---\n",
    "**Project**: Cable Burial Operability  \n",
    "**Author**: Alejandra L. Cameselle  \n",
    "**Date**: June 2025  \n",
    "**Notebook**: 06 – Route Risk Assessment Based on Operational Complexity\n",
    "\n",
    "### Description\n",
    "This notebook evaluates the operational complexity along a simulated submarine cable route by intersecting it with previously classified grid cells. Each segment of the route is assigned a risk score based on burial feasibility.\n",
    "\n",
    "### Inputs\n",
    "- `05_grid_operational_complexity.gpkg`: Grid with assigned operational complexity classes\n",
    "- `simulated_routes.gpkg`: LineString representing a candidate cable route\n",
    "\n",
    "### Processing\n",
    "- Intersect route with complexity grid\n",
    "- Segment route by complexity class\n",
    "- Calculate risk statistics (length and % by class)\n",
    "- Generate visual maps and summary tables\n",
    "\n",
    "### Outputs\n",
    "- `06_route_segments_by_complexity.gpkg`: Route split by risk classes\n",
    "- `06_route_segments_by_risk.png`: Visual plot of segmented route\n",
    "- Summary table (km and %) per class\n",
    "\n",
    "### Assumptions\n",
    "- Route input contains a single LineString geometry\n",
    "- CRS is consistent across layers (EPSG:4326 input, EPSG:25829 for length)\n",
    "\n",
    "### Dependencies\n",
    "- geopandas, pandas, matplotlib\n",
    "---\n"
   ]
  },
  {
   "cell_type": "code",
   "execution_count": 1,
   "id": "16814ea1",
   "metadata": {},
   "outputs": [],
   "source": [
    "# Standard libraries\n",
    "import os\n",
    "import pandas as pd\n",
    "import geopandas as gpd\n",
    "import matplotlib.pyplot as plt\n",
    "import matplotlib.patches as mpatches\n",
    "\n",
    "# Set plot style\n",
    "plt.style.use(\"seaborn-v0_8-whitegrid\")"
   ]
  },
  {
   "cell_type": "code",
   "execution_count": 2,
   "id": "7b65de81",
   "metadata": {},
   "outputs": [],
   "source": [
    "# Load data\n",
    "grid = gpd.read_file(\"../processed_data/05_grid_operational_complexity.gpkg\", layer=\"05_grid_operational_complexity\")\n",
    "route = gpd.read_file(\"../inputs/simulated_routes.gpkg\")"
   ]
  },
  {
   "cell_type": "code",
   "execution_count": 3,
   "id": "fc41886f",
   "metadata": {},
   "outputs": [],
   "source": [
    "# Intersect route with complexity grid\n",
    "intersections = gpd.overlay(grid, route, how=\"intersection\", keep_geom_type=False)"
   ]
  },
  {
   "cell_type": "code",
   "execution_count": 4,
   "id": "48c968ee",
   "metadata": {},
   "outputs": [],
   "source": [
    "# Assign risk scores\n",
    "risk_points = {\"Low\": 0, \"Moderate\": 1, \"High\": 2, \"Critical\": 3}\n",
    "intersections[\"risk_score\"] = intersections[\"cell_complexity\"].map(risk_points)"
   ]
  },
  {
   "cell_type": "code",
   "execution_count": 5,
   "id": "4ccd7ecd",
   "metadata": {},
   "outputs": [],
   "source": [
    "# Calculate segment lengths\n",
    "intersections = intersections.set_geometry(\"geometry\")\n",
    "intersections = intersections.to_crs(epsg=25829)\n",
    "intersections[\"length_m\"] = intersections.geometry.length\n",
    "intersections[\"length_km\"] = intersections[\"length_m\"] / 1000"
   ]
  },
  {
   "cell_type": "code",
   "execution_count": 6,
   "id": "d883b1aa",
   "metadata": {},
   "outputs": [
    {
     "data": {
      "text/html": [
       "<div>\n",
       "<style scoped>\n",
       "    .dataframe tbody tr th:only-of-type {\n",
       "        vertical-align: middle;\n",
       "    }\n",
       "\n",
       "    .dataframe tbody tr th {\n",
       "        vertical-align: top;\n",
       "    }\n",
       "\n",
       "    .dataframe thead th {\n",
       "        text-align: right;\n",
       "    }\n",
       "</style>\n",
       "<table border=\"1\" class=\"dataframe\">\n",
       "  <thead>\n",
       "    <tr style=\"text-align: right;\">\n",
       "      <th></th>\n",
       "      <th>cell_complexity</th>\n",
       "      <th>length_km</th>\n",
       "      <th>percent</th>\n",
       "    </tr>\n",
       "  </thead>\n",
       "  <tbody>\n",
       "    <tr>\n",
       "      <th>0</th>\n",
       "      <td>Critical</td>\n",
       "      <td>1.347</td>\n",
       "      <td>1.76</td>\n",
       "    </tr>\n",
       "    <tr>\n",
       "      <th>1</th>\n",
       "      <td>High</td>\n",
       "      <td>0.494</td>\n",
       "      <td>0.65</td>\n",
       "    </tr>\n",
       "    <tr>\n",
       "      <th>3</th>\n",
       "      <td>Moderate</td>\n",
       "      <td>3.077</td>\n",
       "      <td>4.03</td>\n",
       "    </tr>\n",
       "    <tr>\n",
       "      <th>2</th>\n",
       "      <td>Low</td>\n",
       "      <td>71.426</td>\n",
       "      <td>93.56</td>\n",
       "    </tr>\n",
       "  </tbody>\n",
       "</table>\n",
       "</div>"
      ],
      "text/plain": [
       "  cell_complexity  length_km  percent\n",
       "0        Critical      1.347     1.76\n",
       "1            High      0.494     0.65\n",
       "3        Moderate      3.077     4.03\n",
       "2             Low     71.426    93.56"
      ]
     },
     "metadata": {},
     "output_type": "display_data"
    }
   ],
   "source": [
    "# Summarize route length per risk class\n",
    "summary = intersections.groupby(\"cell_complexity\")[\"length_km\"].sum().reset_index()\n",
    "total_length = summary[\"length_km\"].sum()\n",
    "summary[\"percent\"] = (summary[\"length_km\"] / total_length) * 100\n",
    "\n",
    "# Round values\n",
    "summary[\"length_km\"] = summary[\"length_km\"].round(3)\n",
    "summary[\"percent\"] = summary[\"percent\"].round(2)\n",
    "\n",
    "# Sort categories in operational risk order\n",
    "risk_order = [\"Critical\", \"High\", \"Moderate\", \"Low\"]\n",
    "summary[\"cell_complexity\"] = pd.Categorical(summary[\"cell_complexity\"], categories=risk_order, ordered=True)\n",
    "summary = summary.sort_values(\"cell_complexity\")\n",
    "\n",
    "# Display summary\n",
    "display(summary)\n",
    "\n",
    "# Save summary as table image\n",
    "fig, ax = plt.subplots(figsize=(6, 2))\n",
    "ax.axis(\"off\")\n",
    "table = ax.table(cellText=summary.values,\n",
    "                 colLabels=summary.columns,\n",
    "                 cellLoc='center',\n",
    "                 loc='center')\n",
    "table.auto_set_font_size(False)\n",
    "table.set_fontsize(10)\n",
    "table.scale(1.2, 1.2)\n",
    "plt.tight_layout()\n",
    "os.makedirs(\"../outputs/summary\", exist_ok=True)\n",
    "plt.savefig(\"../outputs/summary/06_summary_table_risk_by_route.png\", dpi=300)\n",
    "plt.close()"
   ]
  },
  {
   "cell_type": "code",
   "execution_count": 7,
   "id": "ea751b82",
   "metadata": {},
   "outputs": [
    {
     "data": {
      "image/png": "[encoded data removed]",
      "text/plain": [
       "<Figure size 1000x800 with 1 Axes>"
      ]
     },
     "metadata": {},
     "output_type": "display_data"
    }
   ],
   "source": [
    "# Plot route segments colored by risk class\n",
    "colors = {\n",
    "    \"Critical\": \"#d73027\",\n",
    "    \"High\": \"#fc8d59\",\n",
    "    \"Moderate\": \"#fee08b\",\n",
    "    \"Low\": \"#91cf60\"\n",
    "}\n",
    "\n",
    "fig, ax = plt.subplots(figsize=(10, 8))\n",
    "\n",
    "# Plot lines\n",
    "intersections.plot(ax=ax,\n",
    "                   color=intersections[\"cell_complexity\"].map(colors),\n",
    "                   linewidth=5)\n",
    "\n",
    "# Custom legend\n",
    "legend_handles = [\n",
    "    mpatches.Patch(color=colors[risk], label=risk)\n",
    "    for risk in [\"Critical\", \"High\", \"Moderate\", \"Low\"]\n",
    "]\n",
    "ax.legend(handles=legend_handles, title=\"Operational Risk\", loc=\"upper left\")\n",
    "\n",
    "# Final layout\n",
    "plt.title(\"Simulated Route Segments by Operational Risk\")\n",
    "plt.axis(\"off\")\n",
    "plt.tight_layout()\n",
    "os.makedirs(\"../outputs/plots\", exist_ok=True)\n",
    "plt.savefig(\"../outputs/plots/06_route_segments_by_risk.png\", dpi=150)\n",
    "plt.show()"
   ]
  },
  {
   "cell_type": "code",
   "execution_count": 9,
   "id": "7bb35ad2",
   "metadata": {},
   "outputs": [
    {
     "name": "stdout",
     "output_type": "stream",
     "text": [
      "Grid exported: ../processed_data/06_route_segments_by_complexity.gpkg\n"
     ]
    }
   ],
   "source": [
    "# Export route segments\n",
    "os.makedirs(\"../processed_data\", exist_ok=True)\n",
    "fname = f\"../processed_data/06_route_segments_by_complexity.gpkg\"\n",
    "layer = f\"06_route_segments_by_complexity\"\n",
    "intersections.to_file(fname, layer=layer, driver=\"GPKG\")\n",
    "\n",
    "print(f\"Grid exported: {fname}\")"
   ]
  }
 ],
 "metadata": {
  "kernelspec": {
   "display_name": "Python 3 (ipykernel)",
   "language": "python",
   "name": "python3"
  },
  "language_info": {
   "codemirror_mode": {
    "name": "ipython",
    "version": 3
   },
   "file_extension": ".py",
   "mimetype": "text/x-python",
   "name": "python",
   "nbconvert_exporter": "python",
   "pygments_lexer": "ipython3",
   "version": "3.13.5"
  }
 },
 "nbformat": 4,
 "nbformat_minor": 5
}
